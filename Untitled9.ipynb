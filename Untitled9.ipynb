{
  "nbformat": 4,
  "nbformat_minor": 0,
  "metadata": {
    "colab": {
      "name": "Untitled9.ipynb",
      "provenance": [],
      "collapsed_sections": [],
      "authorship_tag": "ABX9TyP1389H0KdcI3PYeDkVYnUd",
      "include_colab_link": true
    },
    "kernelspec": {
      "name": "python3",
      "display_name": "Python 3"
    },
    "language_info": {
      "name": "python"
    },
    "accelerator": "GPU",
    "gpuClass": "standard"
  },
  "cells": [
    {
      "cell_type": "markdown",
      "metadata": {
        "id": "view-in-github",
        "colab_type": "text"
      },
      "source": [
        "<a href=\"https://colab.research.google.com/github/MattiaSC01/Connect_four/blob/main/Untitled9.ipynb\" target=\"_parent\"><img src=\"https://colab.research.google.com/assets/colab-badge.svg\" alt=\"Open In Colab\"/></a>"
      ]
    },
    {
      "cell_type": "code",
      "execution_count": 1,
      "metadata": {
        "id": "k6flDabyqz0U"
      },
      "outputs": [],
      "source": [
        "import numpy as np\n",
        "import pandas as pd\n",
        "import tensorflow as tf\n",
        "from tensorflow import keras\n",
        "from RSGD_AE import ReplicatedAutoEncoder, RateCallback"
      ]
    },
    {
      "cell_type": "code",
      "source": [
        "(x_train, y_train), (x_test, y_test) = keras.datasets.mnist.load_data()\n",
        "assert x_train.shape == (60000, 28, 28)\n",
        "assert x_test.shape == (10000, 28, 28)\n",
        "assert y_train.shape == (60000,)\n",
        "assert y_test.shape == (10000,)\n",
        "\n",
        "x_train = x_train.reshape(60000, 784).astype(np.float32) / 255.0\n",
        "x_test = x_test.reshape(10000, 784).astype(np.float32) / 255.0"
      ],
      "metadata": {
        "colab": {
          "base_uri": "https://localhost:8080/"
        },
        "id": "mbTlEXTmrR7c",
        "outputId": "e20925c5-b73f-415a-8321-23931893bf6c"
      },
      "execution_count": 2,
      "outputs": [
        {
          "output_type": "stream",
          "name": "stdout",
          "text": [
            "Downloading data from https://storage.googleapis.com/tensorflow/tf-keras-datasets/mnist.npz\n",
            "11493376/11490434 [==============================] - 0s 0us/step\n",
            "11501568/11490434 [==============================] - 0s 0us/step\n"
          ]
        }
      ]
    },
    {
      "cell_type": "code",
      "source": [
        "replicated_autoencoder = ReplicatedAutoEncoder(x_train.shape[1], 100, n_replicas=5, rate=0.0001, hidden_layers=1, n_neurons=784)\n",
        "\n",
        "opt = keras.optimizers.Adam()\n",
        "replicated_autoencoder.compile(optimizer=opt)"
      ],
      "metadata": {
        "id": "ytMYu9JIrXiO"
      },
      "execution_count": 3,
      "outputs": []
    },
    {
      "cell_type": "code",
      "source": [
        "times = 0, 1, 2, 3, 4, 5\n",
        "values = 1e-6, 1e-5, 1e-4, 1e-3, 1e-2, 1e-1\n",
        "rate_callback = RateCallback(times, values)"
      ],
      "metadata": {
        "id": "E_PUXQ1preyr"
      },
      "execution_count": 5,
      "outputs": []
    },
    {
      "cell_type": "code",
      "source": [
        "replicated_autoencoder.fit(\n",
        "    x=x_train,\n",
        "    y=x_train,\n",
        "    validation_data=(x_test, x_test),\n",
        "    epochs=6,\n",
        "    callbacks=[rate_callback],\n",
        "    )"
      ],
      "metadata": {
        "colab": {
          "base_uri": "https://localhost:8080/"
        },
        "id": "fvQYXZChrsiR",
        "outputId": "2c3c8b56-04ad-4c39-a24d-e4673d4b4115"
      },
      "execution_count": 6,
      "outputs": [
        {
          "output_type": "stream",
          "name": "stdout",
          "text": [
            "\n",
            "\n",
            " Setting rate to 1e-06 \n",
            "\n",
            "\n",
            "Epoch 1/6\n",
            "1875/1875 [==============================] - 19s 8ms/step - total loss: 0.0132 - reconstruction_loss: 0.0126 - distance_loss: 530.2885 - val_replicae: 0.0080 - val_baricenter: 0.1334\n",
            "\n",
            "\n",
            " Setting rate to 1e-05 \n",
            "\n",
            "\n",
            "Epoch 2/6\n",
            "1875/1875 [==============================] - 15s 8ms/step - total loss: 0.0090 - reconstruction_loss: 0.0079 - distance_loss: 109.1617 - val_replicae: 0.0073 - val_baricenter: 0.0881\n",
            "\n",
            "\n",
            " Setting rate to 0.0001 \n",
            "\n",
            "\n",
            "Epoch 3/6\n",
            "1875/1875 [==============================] - 14s 7ms/step - total loss: 0.0082 - reconstruction_loss: 0.0075 - distance_loss: 7.0968 - val_replicae: 0.0072 - val_baricenter: 0.0098\n",
            "\n",
            "\n",
            " Setting rate to 0.001 \n",
            "\n",
            "\n",
            "Epoch 4/6\n",
            "1875/1875 [==============================] - 14s 7ms/step - total loss: 0.0069 - reconstruction_loss: 0.0068 - distance_loss: 0.0995 - val_replicae: 0.0063 - val_baricenter: 0.0064\n",
            "\n",
            "\n",
            " Setting rate to 0.01 \n",
            "\n",
            "\n",
            "Epoch 5/6\n",
            "1875/1875 [==============================] - 14s 7ms/step - total loss: 0.0064 - reconstruction_loss: 0.0061 - distance_loss: 0.0278 - val_replicae: 0.0059 - val_baricenter: 0.0058\n",
            "\n",
            "\n",
            " Setting rate to 0.1 \n",
            "\n",
            "\n",
            "Epoch 6/6\n",
            "1875/1875 [==============================] - 14s 7ms/step - total loss: 0.0078 - reconstruction_loss: 0.0055 - distance_loss: 0.0235 - val_replicae: 0.0053 - val_baricenter: 0.0053\n"
          ]
        },
        {
          "output_type": "execute_result",
          "data": {
            "text/plain": [
              "<keras.callbacks.History at 0x7fb9b11080d0>"
            ]
          },
          "metadata": {},
          "execution_count": 6
        }
      ]
    }
  ]
}